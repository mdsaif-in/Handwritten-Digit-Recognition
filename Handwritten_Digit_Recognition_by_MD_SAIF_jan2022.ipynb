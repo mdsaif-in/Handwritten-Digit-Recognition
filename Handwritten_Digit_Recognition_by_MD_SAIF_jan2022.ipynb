{
  "nbformat": 4,
  "nbformat_minor": 0,
  "metadata": {
    "colab": {
      "provenance": [],
      "authorship_tag": "ABX9TyMvF4n/QYx57IZ38gI6XxA8",
      "include_colab_link": true
    },
    "kernelspec": {
      "name": "python3",
      "display_name": "Python 3"
    },
    "language_info": {
      "name": "python"
    }
  },
  "cells": [
    {
      "cell_type": "markdown",
      "metadata": {
        "id": "view-in-github",
        "colab_type": "text"
      },
      "source": [
        "<a href=\"https://colab.research.google.com/github/mdsaif-in/wordpress-portfilo-website/blob/main/Handwritten_Digit_Recognition_by_MD_SAIF_jan2022.ipynb\" target=\"_parent\"><img src=\"https://colab.research.google.com/assets/colab-badge.svg\" alt=\"Open In Colab\"/></a>"
      ]
    },
    {
      "cell_type": "code",
      "execution_count": 1,
      "metadata": {
        "id": "tJ4ShPc1QaX7"
      },
      "outputs": [],
      "source": [
        "#Handwritten Digit Recognition using Python\n",
        "#Written by MD SAIF\n",
        "#date of starting : 23 jan 2023\n",
        "#date of completion : \n",
        "#Place : NIT Patna"
      ]
    },
    {
      "cell_type": "code",
      "source": [
        "import numpy as np\n",
        "import pandas as pd"
      ],
      "metadata": {
        "id": "F74vYKqgRRvE"
      },
      "execution_count": 2,
      "outputs": []
    },
    {
      "cell_type": "code",
      "source": [],
      "metadata": {
        "id": "Xfw7ULTdSxE9"
      },
      "execution_count": null,
      "outputs": []
    }
  ]
}